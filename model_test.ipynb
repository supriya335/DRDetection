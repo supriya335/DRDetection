{
 "cells": [
  {
   "cell_type": "code",
   "execution_count": 7,
   "id": "7572012f-cf2b-4145-8617-dcc67f9bc495",
   "metadata": {},
   "outputs": [],
   "source": [
    "from keras.models import load_model\n",
    "from keras.preprocessing import image\n",
    "import numpy as np"
   ]
  },
  {
   "cell_type": "code",
   "execution_count": 8,
   "id": "bf9259b3-4216-4645-a84b-f7c8ecc6d82d",
   "metadata": {},
   "outputs": [
    {
     "name": "stderr",
     "output_type": "stream",
     "text": [
      "WARNING:absl:Compiled the loaded model, but the compiled metrics have yet to be built. `model.compile_metrics` will be empty until you train or evaluate the model.\n"
     ]
    }
   ],
   "source": [
    "# Load the saved model\n",
    "loaded_model = load_model('diabetic_retinopathy_model.h5')"
   ]
  },
  {
   "cell_type": "code",
   "execution_count": 9,
   "id": "37150ac7-69b0-42fc-9862-9bd72d2b0d22",
   "metadata": {},
   "outputs": [],
   "source": [
    "# Path to the test image you want to predict\n",
    "test_image_path = \"category_img/Mild - 1/0024cdab0c1e.png\""
   ]
  },
  {
   "cell_type": "code",
   "execution_count": 10,
   "id": "ed518279-7f73-4f1b-8740-db6a2630170f",
   "metadata": {},
   "outputs": [],
   "source": [
    "# Load and preprocess the test image\n",
    "HEIGHT = 512\n",
    "WIDTH =512\n",
    "img = image.load_img(test_image_path, target_size=(HEIGHT, WIDTH))\n",
    "img_array = image.img_to_array(img)\n",
    "img_array = np.expand_dims(img_array, axis=0)\n",
    "img_array /= 255.0"
   ]
  },
  {
   "cell_type": "code",
   "execution_count": 5,
   "id": "8e097583-be1e-46c0-8cfd-bd7007ec7f1c",
   "metadata": {},
   "outputs": [
    {
     "name": "stdout",
     "output_type": "stream",
     "text": [
      "\u001b[1m1/1\u001b[0m \u001b[32m━━━━━━━━━━━━━━━━━━━━\u001b[0m\u001b[37m\u001b[0m \u001b[1m4s\u001b[0m 4s/step\n"
     ]
    }
   ],
   "source": [
    "# Make predictions\n",
    "predictions = loaded_model.predict(img_array)"
   ]
  },
  {
   "cell_type": "code",
   "execution_count": 6,
   "id": "2268515a-1123-47d1-8f58-6dcfd10fb6eb",
   "metadata": {},
   "outputs": [
    {
     "name": "stdout",
     "output_type": "stream",
     "text": [
      "Predicted Diabetic Retinopathy Stage: 1\n"
     ]
    }
   ],
   "source": [
    "# Convert predictions to the corresponding class\n",
    "predicted_class = np.argmax(predictions)\n",
    "print(\"Predicted Diabetic Retinopathy Stage:\", predicted_class)"
   ]
  },
  {
   "cell_type": "code",
   "execution_count": null,
   "id": "6bd1c8a4-08f7-4def-9052-aa0684b470ed",
   "metadata": {},
   "outputs": [],
   "source": []
  }
 ],
 "metadata": {
  "kernelspec": {
   "display_name": "Python 3 (ipykernel)",
   "language": "python",
   "name": "python3"
  },
  "language_info": {
   "codemirror_mode": {
    "name": "ipython",
    "version": 3
   },
   "file_extension": ".py",
   "mimetype": "text/x-python",
   "name": "python",
   "nbconvert_exporter": "python",
   "pygments_lexer": "ipython3",
   "version": "3.11.9"
  }
 },
 "nbformat": 4,
 "nbformat_minor": 5
}
